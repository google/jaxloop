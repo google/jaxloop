{
  "cells": [
    {
      "metadata": {
        "id": "id2LxDWShcu6"
      },
      "cell_type": "markdown",
      "source": [
        "# Training a Transformer with Jaxloop\n",
        "\n",
        "This Colab notebook demonstrates a Jaxloop-based training solution for the\n",
        "Gemma3 transformer model. While this notebook focuses on Gemma3, the training\n",
        "solution itself is highly flexible, making it suitable for any transformer model\n",
        "and adaptable to a wide range of datasets beyond text sequences.\n",
        "\n",
        "To run cells with the `gemma` library, connect to a standard Brain Frameworks or\n",
        "Google DeepMind TPU runtime, or launch a custom runtime with `gemma` and `etils`\n",
        "as dependencies (go/gemma-3p). For large models, where sharding is necessary,\n",
        "TPUv4 or TPUv5 may be necessary."
      ]
    },
    {
      "metadata": {
        "id": "FikuUYecfzBm",
        "executionInfo": {
          "status": "ok",
          "timestamp": 1754626314051,
          "user_tz": 420,
          "elapsed": 4771,
          "user": {
            "displayName": "Krithi Sub",
            "userId": "18015629522155428608"
          }
        }
      },
      "cell_type": "code",
      "source": [
        "# @title Imports and Setup {display-mode: \"form\"}\n",
        "\n",
        "import tensorflow as tf\n",
        "tf.compat.v1.enable_eager_execution()\n",
        "\n",
        "import traceback\n",
        "\n",
        "import os\n",
        "os.environ['ABSL_MIN_LOG_LEVEL'] = '1'\n",
        "\n",
        "from clu import metrics\n",
        "from etils import ecolab\n",
        "import flax\n",
        "import flax.linen as nn\n",
        "import jax\n",
        "from jax.experimental import mesh_utils\n",
        "import jax.numpy as jnp\n",
        "from jax.sharding import Mesh, NamedSharding, PartitionSpec as P\n",
        "from jax.sharding import PartitionSpec as P\n",
        "import optax\n",
        "import tensorflow_datasets as tfds\n",
        "\n",
        "from typing import Any, Dict, Tuple, Optional, Type\n",
        "import matplotlib.pyplot as plt\n",
        "\n",
        "with ecolab.adhoc():\n",
        "  from gemma import gm\n",
        "\n",
        "from colabtools import adhoc_import\n",
        "\n",
        "with adhoc_import.Google3():\n",
        "  from jaxloop import action_loop as action_loop_lib\n",
        "  from jaxloop import actions\n",
        "  from jaxloop import outer_loop\n",
        "  from jaxloop import partition\n",
        "  from jaxloop import step\n",
        "  from jaxloop import train_loop as train_loop_lib\n",
        "  from jaxloop import types\n",
        "\n",
        "  from jaxloop.trainers import data_loader\n",
        "  from jaxloop.trainers import data_preprocessor\n",
        "  from jaxloop.trainers import simple_step\n",
        "  from jaxloop.trainers import simple_trainer\n",
        "  from jaxloop.trainers import trainer_utils\n",
        "  from jaxloop.trainers import transformer_step"
      ],
      "outputs": [],
      "execution_count": 24
    },
    {
      "metadata": {
        "id": "QYM0ZFDuWEyg"
      },
      "cell_type": "markdown",
      "source": [
        "## Config and Model Loading"
      ]
    },
    {
      "metadata": {
        "id": "5qxIe985WIis"
      },
      "cell_type": "markdown",
      "source": [
        "Loading parameters may result in a resource exhausted runtime error. Ensure you\n",
        "are connected to a TPU runtime. Larger models and more intensive parameters (ex.\n",
        "Gemma3_4B, longer sequence length, larger batch size, etc) will require a custom\n",
        "runtime and sharding. A Brain Frameworks 2x2x1 Viperfish (TPUv5) cube can be\n",
        "launched via `colab launch -a=\"vf=2x2x1\"` if necessary for the configuration."
      ]
    },
    {
      "metadata": {
        "id": "5eIL0mFgov8b",
        "executionInfo": {
          "status": "ok",
          "timestamp": 1754626316066,
          "user_tz": 420,
          "elapsed": 1795,
          "user": {
            "displayName": "Krithi Sub",
            "userId": "18015629522155428608"
          }
        },
        "outputId": "eb5d1194-5d2c-4998-a12a-73b6ca25d00e"
      },
      "cell_type": "code",
      "source": [
        "BATCH_SIZE = jax.local_device_count() * 2\n",
        "NUM_EPOCHS = 1\n",
        "LEARNING_RATE = 1e-5  # Learning rate for Adam optimizer\n",
        "SEQ_LEN = 256  # Max sequence length for padding\n",
        "USE_BFLOAT16 = True  # Reduce memory usage\n",
        "jax.config.update('jax_default_matmul_precision', 'bfloat16')"
      ],
      "outputs": [],
      "execution_count": 25
    },
    {
      "metadata": {
        "id": "Yv85GcwLt2YZ",
        "outputId": "80192f6c-d6e6-4106-b6e5-b5e0dc5738d0"
      },
      "cell_type": "code",
      "source": [
        "print(\"Loading model and tokenizer...\")\n",
        "model = gm.nn.Gemma3_1B()\n",
        "tokenizer = gm.text.Gemma3Tokenizer()\n",
        "print(\"Model and tokenizer loaded.\")\n",
        "\n",
        "PAD_TOKEN_ID = tokenizer.special_tokens.PAD\n",
        "print(f\"Padding token id: {PAD_TOKEN_ID}\")"
      ],
      "outputs": [
        {
          "output_type": "stream",
          "name": "stdout",
          "text": [
            "Loading model and tokenizer...\n",
            "Model and tokenizer loaded.\n",
            "Padding token id: 0\n"
          ]
        }
      ],
      "execution_count": 26
    },
    {
      "metadata": {
        "id": "X5YFbdxut1iA",
        "executionInfo": {
          "status": "ok",
          "timestamp": 1754618781804,
          "user_tz": 420,
          "elapsed": 1993,
          "user": {
            "displayName": "Krithi Sub",
            "userId": "18015629522155428608"
          }
        },
        "outputId": "07714ef5-93a2-4b0b-e3a4-fa2f34cd168d"
      },
      "cell_type": "code",
      "source": [
        "print(\"Loading pre-trained parameters for GEMMA3_1B_IT...\")\n",
        "\n",
        "try:\n",
        "  params = gm.ckpts.load_params(gm.ckpts.CheckpointPath.GEMMA3_1B_IT)\n",
        "  if USE_BFLOAT16:\n",
        "    params = jax.tree.map(lambda x: x.astype(jnp.bfloat16), params)\n",
        "    print(\"Params cast to bfloat16.\")\n",
        "  print(\"Params loaded successfully.\")\n",
        "\n",
        "except Exception as e:\n",
        "  print(f\"Error loading params: {e}\")\n",
        "  params = None  # Set to None if loading fails"
      ],
      "outputs": [
        {
          "output_type": "stream",
          "name": "stdout",
          "text": [
            "Loading pre-trained parameters for GEMMA3_1B_IT...\n",
            "Params cast to bfloat16.\n",
            "Params loaded successfully.\n"
          ]
        }
      ],
      "execution_count": 27
    },
    {
      "metadata": {
        "id": "f6Wy37SPZgOF"
      },
      "cell_type": "markdown",
      "source": [
        "We will set up an environment for training large ML models using JAX with any\n",
        "available hardware accelerators (GPUs/TPUs). The devices are arranged into a\n",
        "mesh to support model parallelism via the Jaxloop SPMD Partitioner. Later, we\n",
        "will use the partitioner for sharding the model parameters and batches across\n",
        "devices."
      ]
    },
    {
      "metadata": {
        "id": "b1YSMO_xb2g6",
        "executionInfo": {
          "status": "ok",
          "timestamp": 1754618782009,
          "user_tz": 420,
          "elapsed": 9,
          "user": {
            "displayName": "Krithi Sub",
            "userId": "18015629522155428608"
          }
        },
        "outputId": "eafe9410-7185-48de-d1bb-7221d37dde59"
      },
      "cell_type": "code",
      "source": [
        "num_devices = jax.device_count()\n",
        "print(f\"Number of devices: {num_devices}\")\n",
        "if num_devices \u003c 2:\n",
        "  raise RuntimeError(\"Model parallelism example requires at least 2 devices.\")\n",
        "\n",
        "model_parallel_size = 2\n",
        "if num_devices % model_parallel_size != 0:\n",
        "  print(\n",
        "    f\"Warning: Number of devices ({num_devices}) is not divisible by\"\n",
        "    f\" model_parallel_size ({model_parallel_size}).\"\n",
        "  )\n",
        "data_parallel_size = num_devices // model_parallel_size\n",
        "\n",
        "device_mesh = mesh_utils.create_device_mesh(\n",
        "  (data_parallel_size, model_parallel_size)\n",
        ")\n",
        "mesh = Mesh(device_mesh, axis_names=(\"data\", \"model\"))\n",
        "print(f\"Using mesh: {mesh}\")\n",
        "\n",
        "partitioner = partition.SPMDPartitioner(mesh=mesh, data_axis=\"data\")\n",
        "print(\"SPMD Partitioner created.\")"
      ],
      "outputs": [
        {
          "output_type": "stream",
          "name": "stdout",
          "text": [
            "Number of devices: 4\n",
            "Using mesh: Mesh('data': 2, 'model': 2, axis_types=(Auto, Auto))\n",
            "SPMD Partitioner created.\n"
          ]
        }
      ],
      "execution_count": 28
    },
    {
      "metadata": {
        "id": "cnexJlPLZsJi"
      },
      "cell_type": "markdown",
      "source": [
        "## Load Dataset\n",
        "\n",
        "To finetune the Gemma3 transformer, we will use the `tiny_shakespeare` dataset\n",
        "(https://www.tensorflow.org/datasets/catalog/tiny_shakespeare). The following\n",
        "few cells will showcase how to preprocess a text-based dataset to create batches\n",
        "in the format necessary to use Jaxloop trainers."
      ]
    },
    {
      "metadata": {
        "id": "GgB48nqQpQMs"
      },
      "cell_type": "code",
      "source": [
        "ds = tfds.load(\"tiny_shakespeare\", split=\"train\")"
      ],
      "outputs": [],
      "execution_count": 29
    },
    {
      "metadata": {
        "id": "lQYOhjOkadl9"
      },
      "cell_type": "markdown",
      "source": [
        "## DataPreprocessor\n",
        "\n",
        "Jaxloop provides a DataPreprocessor to create a processing pipeline. In this\n",
        "particular example, we have two steps: 1. Tokenize the text with the\n",
        "Gemma3Tokenizer we initialized earlier. 2. Split the tokenized text into\n",
        "sequences of length SEQ_LEN.\n",
        "\n",
        "The result is a `List[jax.Array]` which can be passed to the default DataLoader."
      ]
    },
    {
      "metadata": {
        "id": "uBgxOOmSpkox"
      },
      "cell_type": "code",
      "source": [
        "def tokenize_fn(dataset):\n",
        "  \"\"\"Tokenizes the text in the dataset and returns the tokenized text as a jax.Array.\n",
        "\n",
        "  Args:\n",
        "    dataset: The dataset, which in this case, is a tf.data.Dataset.\n",
        "\n",
        "  Returns:\n",
        "    A jax.Array containing the tokenized text as integer token IDs.\n",
        "  \"\"\"\n",
        "  all_text = (\n",
        "    dataset.map(lambda x: x[\"text\"]).reduce(b\"\", lambda a, b: a + b).numpy()\n",
        "  )\n",
        "  if isinstance(all_text, bytes):\n",
        "    all_text = all_text.decode(\"utf-8\")\n",
        "\n",
        "  tokenized_text = tokenizer.encode(all_text)\n",
        "  tokenized_text = jnp.array(tokenized_text, dtype=jnp.int32)\n",
        "  print(f\"Total tokens: {len(tokenized_text)}\")\n",
        "\n",
        "  # Print a few samples.\n",
        "  for i in range(10):\n",
        "    token = tokenized_text[i]\n",
        "    print(tokenizer.decode(token))\n",
        "    print(token)\n",
        "\n",
        "  return tokenized_text"
      ],
      "outputs": [],
      "execution_count": 30
    },
    {
      "metadata": {
        "id": "94cKtT8DcZIc"
      },
      "cell_type": "code",
      "source": [
        "def split_text(tokenized_text, seq_len=SEQ_LEN):\n",
        "  \"\"\"Splits the tokenized text into sequences of length seq_len.\n",
        "\n",
        "  Args:\n",
        "    tokenized_text: A jax.Array containing the tokenized text.\n",
        "    seq_len: The length of each sequence.\n",
        "\n",
        "  Returns:\n",
        "    A list of jax.Array containing the split sequencse.\n",
        "  \"\"\"\n",
        "  if not isinstance(tokenized_text, jax.Array) or tokenized_text.ndim != 1:\n",
        "    raise ValueError(\"tokenized_text must be a 1D jax.Array\")\n",
        "  if not isinstance(seq_len, int) or seq_len \u003c= 0:\n",
        "    raise ValueError(\"seq_len must be a positive integer\")\n",
        "\n",
        "  num_tokens = tokenized_text.shape[0]\n",
        "  num_chunks = (num_tokens + seq_len - 1) // seq_len\n",
        "\n",
        "  chunks = []\n",
        "  for i in range(num_chunks):\n",
        "    start_index = i * seq_len\n",
        "    end_index = min((i + 1) * seq_len, num_tokens)\n",
        "    chunks.append(tokenized_text[start_index:end_index])\n",
        "\n",
        "  return chunks"
      ],
      "outputs": [],
      "execution_count": 31
    },
    {
      "metadata": {
        "id": "ItI1gBrscDEl"
      },
      "cell_type": "markdown",
      "source": [
        "## Tokenize Dataset\n",
        "\n",
        "We'll initialize a DataPreprocessorBuilder and create a preprocessor with the\n",
        "above functions."
      ]
    },
    {
      "metadata": {
        "id": "K6izhsXAqRuV",
        "executionInfo": {
          "status": "ok",
          "timestamp": 1754618792217,
          "user_tz": 420,
          "elapsed": 2074,
          "user": {
            "displayName": "Krithi Sub",
            "userId": "18015629522155428608"
          }
        },
        "outputId": "84427d83-3245-4cc2-fc2b-22e5cb2e21c4"
      },
      "cell_type": "code",
      "source": [
        "preprocessor_builder = data_preprocessor.DataPreprocessorBuilder()\n",
        "preprocessor_builder.add_stage(tokenize_fn)\n",
        "preprocessor_builder.add_stage(split_text)\n",
        "preprocessor = preprocessor_builder.build()\n",
        "\n",
        "tokenized_text = preprocessor(ds)\n",
        "print(f\"Number of tokenized samples: {len(tokenized_text)}\")"
      ],
      "outputs": [
        {
          "output_type": "stream",
          "name": "stdout",
          "text": [
            "Total tokens: 287230\n",
            "First\n",
            "7280\n",
            " Citizen\n",
            "67386\n",
            ":\n",
            "236787\n",
            "\n",
            "\n",
            "107\n",
            "Before\n",
            "13286\n",
            " we\n",
            "692\n",
            " proceed\n",
            "7162\n",
            " any\n",
            "1027\n",
            " further\n",
            "3342\n",
            ",\n",
            "236764\n",
            "Number of tokenized samples: 1122\n"
          ]
        }
      ],
      "execution_count": 32
    },
    {
      "metadata": {
        "id": "5BxmYDZadAs0"
      },
      "cell_type": "markdown",
      "source": [
        "## Initialize DataLoader\n",
        "\n",
        "The built-in Jaxloop TransformerDataLoader will use the sequences to create\n",
        "batches of the format: `{ \"input_features\": { \"attention_mask\": ...,\n",
        "\"input_ids\": ... }, \"output_features\": { \"labels\": ... } }`\n",
        "\n",
        "The DataLoader provides a simple default collation function for causal language\n",
        "modeling. Advanced users can create a custom collation function depending on the\n",
        "specific task and dataset, but we will use the default."
      ]
    },
    {
      "metadata": {
        "id": "ZiD76XisrV-H",
        "executionInfo": {
          "status": "ok",
          "timestamp": 1754618793007,
          "user_tz": 420,
          "elapsed": 508,
          "user": {
            "displayName": "Krithi Sub",
            "userId": "18015629522155428608"
          }
        },
        "outputId": "0bcbef23-4a88-446e-9744-d253e02dcf85"
      },
      "cell_type": "code",
      "source": [
        "Batch = types.Batch\n",
        "\n",
        "train_data_loader = data_loader.TransformerDataLoader(\n",
        "  dataset=iter(tokenized_text),\n",
        "  batch_size=BATCH_SIZE,\n",
        ")\n",
        "\n",
        "try:\n",
        "  sample_batch = next(iter(train_data_loader))\n",
        "  print(\n",
        "    \"Sample batch structure:\",\n",
        "    jax.tree.map(lambda x: (x.shape, x.dtype), sample_batch),\n",
        "  )\n",
        "  BATCH_SPEC = jax.tree.map(lambda x: (x.shape, x.dtype), sample_batch)\n",
        "  print(\"Batch spec:\", BATCH_SPEC)\n",
        "  assert sample_batch[\"input_features\"][\"input_ids\"].shape[1] == SEQ_LEN\n",
        "except StopIteration:\n",
        "  print(\"DataLoader is empty!\")\n",
        "  BATCH_SPEC = None"
      ],
      "outputs": [
        {
          "output_type": "stream",
          "name": "stdout",
          "text": [
            "Sample batch structure: {'input_features': {'attention_mask': ((8, 256), dtype('float32')), 'input_ids': ((8, 256), dtype('int32'))}, 'output_features': {'labels': ((8, 256), dtype('int32'))}}\n",
            "Batch spec: {'input_features': {'attention_mask': ((8, 256), dtype('float32')), 'input_ids': ((8, 256), dtype('int32'))}, 'output_features': {'labels': ((8, 256), dtype('int32'))}}\n"
          ]
        }
      ],
      "execution_count": 33
    },
    {
      "metadata": {
        "id": "TyBzVjDDdteN"
      },
      "cell_type": "code",
      "source": [
        "# @title Sharding {display-mode: \"form\"}\n",
        "\n",
        "\"\"\"We will monkey patch the SPMDPartitioner.shard_batch method:\n",
        "\n",
        "```\n",
        "def shard_batch(self, batch: jaxtyping.PyTree) -\u003e jaxtyping.PyTree:\n",
        "  return _reshard_for_pjit(self._mesh, self._data_axis, batch)\n",
        "```\n",
        "\n",
        "We only shard JAX or NumPy arrays, skipping other data types, and implement the\n",
        "sharding logic explicity with jax.make_array_from_callback.\n",
        "\"\"\"\n",
        "\n",
        "\n",
        "def spmd_shard_batch(self, batch: types.Batch) -\u003e types.Batch:\n",
        "  if self._mesh is None:\n",
        "    return batch\n",
        "\n",
        "  def _shard_array(numpy_array):\n",
        "    if not isinstance(numpy_array, (jnp.ndarray, jnp.ndarray)):\n",
        "      print(f\"Skipping sharding for type {type(numpy_array)}\")\n",
        "      return numpy_array\n",
        "\n",
        "    global_shape = numpy_array.shape\n",
        "\n",
        "    # Data is sharded on the 'data' axis, replicated on 'model'\n",
        "    sharding = NamedSharding(self._mesh, P(self._data_axis))\n",
        "\n",
        "    np_array = jnp.array(numpy_array)\n",
        "\n",
        "    # This function creates a sharded jax.Array by calling the lambda\n",
        "    # for each shard index.\n",
        "    return jax.make_array_from_callback(\n",
        "        global_shape, sharding, lambda index: np_array[index]\n",
        "    )\n",
        "\n",
        "  return jax.tree_util.tree_map(_shard_array, batch)\n",
        "\n",
        "\n",
        "partition.SPMDPartitioner.shard_batch = spmd_shard_batch\n",
        "\n",
        "# Recreate the partitioner instance to use the patched method\n",
        "partitioner = partition.SPMDPartitioner(mesh=mesh, data_axis=\"data\")"
      ],
      "outputs": [],
      "execution_count": 34
    },
    {
      "metadata": {
        "id": "m7kCk4l1fXB7"
      },
      "cell_type": "markdown",
      "source": [
        "## TransformerStep\n",
        "\n",
        "The default TransformerStep works for most use cases, but because we are\n",
        "sharding parameters, we will override a few methods to be compatible with the\n",
        "Gemma3 transformer."
      ]
    },
    {
      "metadata": {
        "id": "3SA3m9Vk-oKj"
      },
      "cell_type": "code",
      "source": [
        "class Gemma3TransformerStep(transformer_step.TransformerStep):\n",
        "  \"\"\"TransformerStep subclass for model parallelism and Gemma3 specific input.\n",
        "  \"\"\"\n",
        "\n",
        "  def __init__(self, *args, initial_params: Any = None, **kwargs):\n",
        "    \"\"\"Custom __init__ to accept and store initial_params.\"\"\"\n",
        "    super().__init__(*args, **kwargs)\n",
        "    self._initial_params = initial_params\n",
        "    if self._initial_params is not None:\n",
        "      print(\"Gemma3TransformerStep instance created with initial_params.\")\n",
        "\n",
        "  def initialize_model(\n",
        "    self,\n",
        "    spec: types.BatchSpec,\n",
        "    log_num_params: bool,\n",
        "    **kwargs: Any,\n",
        "  ) -\u003e types.TrainState:\n",
        "    \"\"\"Initializes the model and correctly returns a TrainState object.\n",
        "\n",
        "    It prioritizes using pre-trained weights if they are provided during\n",
        "    construction.\n",
        "    \"\"\"\n",
        "    if self._initial_params is not None:\n",
        "      print(\"Using pre-trained params provided to constructor.\")\n",
        "\n",
        "      def create_param_sharding(param_leaf):\n",
        "        # Basic model parallelism sharding: Replicate on 'data', shard on 'model'.\n",
        "        # We'll try to shard the last dimension on the 'model' axis.\n",
        "        shape = param_leaf.shape\n",
        "        spec = [None] * len(shape)\n",
        "        if len(shape) \u003e 0:\n",
        "          # Shard the last axis on 'model'\n",
        "          spec[-1] = \"model\"\n",
        "        return jax.sharding.NamedSharding(self._partitioner.mesh, P(*spec))\n",
        "\n",
        "      params_sharding = jax.tree.map(\n",
        "        create_param_sharding, self._initial_params\n",
        "      )\n",
        "      params = jax.device_put(self._initial_params, params_sharding)\n",
        "      print(\"Pre-trained params sharded on 'model' axis where possible.\")\n",
        "    else:\n",
        "      print(\"Initializing params from scratch.\")\n",
        "      raise NotImplementedError(\n",
        "        \"Initializing from scratch with model parallelism is not supported \"\n",
        "        \"in this setup without model modifications.\"\n",
        "      )\n",
        "\n",
        "    return types.TrainState.create(\n",
        "      apply_fn=self._model.apply,\n",
        "      params=params,\n",
        "      tx=self._optimizer,\n",
        "    )\n",
        "\n",
        "  def _predict_and_compute_loss(\n",
        "    self,\n",
        "    state: types.TrainState,\n",
        "    input_features: Dict[str, jax.Array],\n",
        "    output_features: Dict[str, jax.Array],\n",
        "  ) -\u003e Tuple[types.TrainState, jax.Array, jax.Array]:\n",
        "    self._validate_input_features(input_features)\n",
        "    self._validate_output_features(output_features)\n",
        "\n",
        "    def prediction_and_loss_computation_fn(\n",
        "        params: Any,\n",
        "    ) -\u003e Tuple[jax.Array, jax.Array]:\n",
        "      tokens = input_features[\"input_ids\"]\n",
        "      padding_mask_bl = input_features[\"attention_mask\"]\n",
        "\n",
        "      \"\"\"\n",
        "      The Gemma3 model's forward pass does not take a generic dictionary;\n",
        "      the input_ids must be named `tokens`, and there must be a key for `cache`.\n",
        "      Additionally, dropout is handled internally and does not need to be\n",
        "      passed explicitly.\n",
        "      \"\"\"\n",
        "      model_output = state.apply_fn(\n",
        "        {\"params\": params},\n",
        "        tokens=tokens,\n",
        "        cache=None,\n",
        "      )\n",
        "      logits = model_output.logits\n",
        "\n",
        "      labels = output_features[\"labels\"]\n",
        "      loss = self.loss_fn(logits, labels, padding_mask_bl)\n",
        "      return loss, logits\n",
        "\n",
        "    if self._train:\n",
        "      grad_fn = jax.value_and_grad(\n",
        "        prediction_and_loss_computation_fn, has_aux=True\n",
        "      )\n",
        "      (loss, logits), gradients = grad_fn(state.params)\n",
        "      state = state.apply_gradients(grads=gradients)\n",
        "    else:\n",
        "      loss, logits = prediction_and_loss_computation_fn(state.params)\n",
        "\n",
        "    return state, loss, logits"
      ],
      "outputs": [],
      "execution_count": 35
    },
    {
      "metadata": {
        "id": "tEkcAcaoClou"
      },
      "cell_type": "code",
      "source": [
        "# @title Trainer Modifications {display-mode: \"form\"}\n",
        "class ModifiedTrainer(simple_trainer.SimpleTrainer):\n",
        "  \"\"\"A subclass of SimpleTrainer that initializes the evaluation step\n",
        "\n",
        "  with the optimizer and partitioner for sharding.\n",
        "  \"\"\"\n",
        "\n",
        "  def __init__(\n",
        "      self,\n",
        "      model: nn.Module,\n",
        "      epochs: int,\n",
        "      steps_per_epoch: int,\n",
        "      batch_spec: types.BatchSpec | trainer_utils.TrainerBatchSpec,\n",
        "      checkpointing_config: Optional[trainer_utils.CheckpointingConfig] = None,\n",
        "      summary_config: Optional[trainer_utils.SummaryConfig] = None,\n",
        "      log_num_params: bool = False,\n",
        "      optimizer: optax.GradientTransformation = optax.adam(1e-4),\n",
        "      partitioner: partition.Partitioner = partition.SingleDevicePartitioner(),\n",
        "      step_class: Type[step.Step] = simple_step.SimpleStep,\n",
        "      train_loop_class: Type[\n",
        "          train_loop_lib.TrainLoop\n",
        "      ] = train_loop_lib.TrainLoop,\n",
        "      eval_loop_class: Type[\n",
        "          action_loop_lib.ActionLoop\n",
        "      ] = action_loop_lib.ActionLoop,\n",
        "      outer_loop_class: Type[outer_loop.OuterLoop] = outer_loop.OuterLoop,\n",
        "      base_prng: types.PRNGType | None = None,\n",
        "      additional_begin_actions: list[actions.Action] = [],\n",
        "      additional_end_actions: list[actions.Action] = [],\n",
        "      **kwargs,\n",
        "  ):\n",
        "    self._model = model\n",
        "    self._epochs = epochs\n",
        "    self._steps_per_epoch = steps_per_epoch\n",
        "    self._batch_spec = batch_spec\n",
        "    self._log_num_params = log_num_params\n",
        "    self._checkpointing_config = checkpointing_config\n",
        "    self._summary_config = summary_config\n",
        "\n",
        "    if base_prng is None:\n",
        "      base_prng = {\"params\": jax.random.PRNGKey(0)}\n",
        "\n",
        "    self._train_step = step_class(\n",
        "        model=model,\n",
        "        base_prng=base_prng,\n",
        "        train=True,\n",
        "        optimizer=optimizer,\n",
        "        partitioner=partitioner,\n",
        "        **kwargs,\n",
        "    )\n",
        "    begin_actions, end_actions = self._build_actions(\n",
        "        additional_begin_actions, additional_end_actions\n",
        "    )\n",
        "    self._train_loop = train_loop_class(\n",
        "        step=self._train_step,\n",
        "        begin_actions=begin_actions,\n",
        "        end_actions=end_actions,\n",
        "        **kwargs,\n",
        "    )\n",
        "\n",
        "    self._eval_step = step_class(\n",
        "        model=model,\n",
        "        base_prng=base_prng,\n",
        "        train=False,\n",
        "        optimizer=optimizer,  # Added optimizer\n",
        "        partitioner=partitioner,  # Added partitioner\n",
        "        **kwargs,\n",
        "    )\n",
        "    self._eval_loop = eval_loop_class(\n",
        "        step=self._eval_step,\n",
        "        **kwargs,\n",
        "    )\n",
        "\n",
        "    self._outer_loop = outer_loop_class(\n",
        "        self._train_loop,\n",
        "        checkpoint_spec=self._checkpointing_config.checkpoint_spec\n",
        "        if self._checkpointing_config is not None\n",
        "        else None,\n",
        "        **kwargs,\n",
        "    )\n",
        "\n",
        "    self._setup(**kwargs)"
      ],
      "outputs": [],
      "execution_count": 36
    },
    {
      "metadata": {
        "id": "WxByWCe5j2fd"
      },
      "cell_type": "markdown",
      "source": [
        "## Training\n",
        "\n",
        "To train, we simply initialize the optimizer, step class, and the trainer."
      ]
    },
    {
      "metadata": {
        "id": "TH9ChSieN7Tg",
        "outputId": "ff7e4c58-b25c-4647-9241-af81e0ffb600",
        "executionInfo": {
          "status": "ok",
          "timestamp": 1754618819681,
          "user_tz": 420,
          "elapsed": 25540,
          "user": {
            "displayName": "Krithi Sub",
            "userId": "18015629522155428608"
          }
        }
      },
      "cell_type": "code",
      "source": [
        "optimizer = optax.adamw(learning_rate=LEARNING_RATE)\n",
        "steps_per_epoch = len(tokenized_text) // BATCH_SIZE\n",
        "\n",
        "\"\"\"\n",
        "A callable function to produce a Gemma3TransformerStep object preconfigured\n",
        "with pre-trained parameters.\n",
        "\"\"\"\n",
        "step_class_factory = lambda *args, **kwargs: Gemma3TransformerStep(\n",
        "  *args, initial_params=params, **kwargs\n",
        ")\n",
        "\n",
        "trainer = ModifiedTrainer(\n",
        "  model=model,\n",
        "  epochs=NUM_EPOCHS,\n",
        "  steps_per_epoch=steps_per_epoch,\n",
        "  batch_spec=BATCH_SPEC,\n",
        "  step_class=step_class_factory,\n",
        "  partitioner=partitioner,\n",
        "  optimizer=optimizer,\n",
        "  base_prng={\"params\": jax.random.PRNGKey(42)},\n",
        ")"
      ],
      "outputs": [
        {
          "output_type": "stream",
          "name": "stdout",
          "text": [
            "Gemma3TransformerStep instance created with initial_params.\n",
            "Gemma3TransformerStep instance created with initial_params.\n",
            "Using pre-trained params provided to constructor.\n",
            "Pre-trained params sharded on 'model' axis where possible.\n",
            "Using pre-trained params provided to constructor.\n",
            "Pre-trained params sharded on 'model' axis where possible.\n"
          ]
        }
      ],
      "execution_count": 37
    },
    {
      "metadata": {
        "id": "ESDUx0RDbliI"
      },
      "cell_type": "code",
      "source": [
        "print(\"\\nStarting training...\")\n",
        "train_outputs = None\n",
        "final_state = None\n",
        "try:\n",
        "  jax.clear_caches()\n",
        "  # We pass in the data loader with batches of data from tiny_shakespeare.\n",
        "  train_outputs = trainer.train(train_data_loader)\n",
        "  print(\"Training completed.\")\n",
        "  final_state = trainer.model_state\n",
        "except Exception as e:\n",
        "  print(f\"Error during training: {e}\")\n",
        "  print(traceback.format_exc())"
      ],
      "outputs": [
        {
          "output_type": "stream",
          "name": "stdout",
          "text": [
            "\n",
            "Starting training...\n",
            "Training completed.\n"
          ]
        }
      ],
      "execution_count": 38
    },
    {
      "metadata": {
        "id": "orHnwvNfkpwE"
      },
      "cell_type": "markdown",
      "source": [
        "## Testing"
      ]
    },
    {
      "metadata": {
        "id": "CMQHtbI4LRF9",
        "executionInfo": {
          "status": "ok",
          "timestamp": 1754618821226,
          "user_tz": 420,
          "elapsed": 1309,
          "user": {
            "displayName": "Krithi Sub",
            "userId": "18015629522155428608"
          }
        },
        "outputId": "0fa21431-5351-458f-e778-0ff7a2d5f4ed"
      },
      "cell_type": "code",
      "source": [
        "# Load test dataset\n",
        "ds_val = tfds.load(\"tiny_shakespeare\", split=\"validation\")\n",
        "ds_test = tfds.load(\"tiny_shakespeare\", split=\"test\")\n",
        "ds_test = ds_test.concatenate(ds_val)\n",
        "\n",
        "# Preprocess test dataset\n",
        "tokenized_text_test = preprocessor(ds_test)\n",
        "print(f\"Number of tokenized samples in test set: {len(tokenized_text_test)}\")\n",
        "\n",
        "# Initialize test DataLoader\n",
        "test_data_loader = data_loader.TransformerDataLoader(\n",
        "  dataset=iter(tokenized_text_test),\n",
        "  batch_size=BATCH_SIZE,\n",
        ")"
      ],
      "outputs": [
        {
          "output_type": "stream",
          "name": "stdout",
          "text": [
            "Total tokens: 33982\n",
            "rance\n",
            "23411\n",
            " ta\n",
            "5787\n",
            "'\n",
            "236789\n",
            "en\n",
            "501\n",
            "\n",
            "\n",
            "107\n",
            "As\n",
            "2205\n",
            " shall\n",
            "2863\n",
            " with\n",
            "607\n",
            " either\n",
            "3477\n",
            " part\n",
            "912\n",
            "Number of tokenized samples in test set: 133\n"
          ]
        }
      ],
      "execution_count": 39
    },
    {
      "metadata": {
        "id": "i7ufGlSblNcM"
      },
      "cell_type": "markdown",
      "source": [
        "## Evaluation\n",
        "\n",
        "For evaluation, we will gather previously sharded parameters to one evaluation\n",
        "device rather than sharding."
      ]
    },
    {
      "metadata": {
        "id": "h20qPFAhlMJt"
      },
      "cell_type": "code",
      "source": [
        "@flax.struct.dataclass\n",
        "class EvalMetrics(metrics.Collection):\n",
        "  eval_loss: metrics.Average.from_output(\"loss\")\n",
        "  accuracy: metrics.Accuracy\n",
        "\n",
        "  @classmethod\n",
        "  def single_from_model_output(\n",
        "    cls, loss, logits, labels, mask, **_\n",
        "  ) -\u003e \"EvalMetrics\":\n",
        "    mask = mask.astype(jnp.bool_)\n",
        "    return super().single_from_model_output(\n",
        "      loss=loss, logits=logits, labels=labels, mask=mask\n",
        "    )"
      ],
      "outputs": [],
      "execution_count": 40
    },
    {
      "metadata": {
        "id": "AISpduKnljAd",
        "executionInfo": {
          "status": "ok",
          "timestamp": 1754618825045,
          "user_tz": 420,
          "elapsed": 3343,
          "user": {
            "displayName": "Krithi Sub",
            "userId": "18015629522155428608"
          }
        },
        "outputId": "0ff41a4d-e194-4e81-e07d-d497f3f7d6cf"
      },
      "cell_type": "code",
      "source": [
        "# @title Gathering Parameters {display-mode: \"form\"}\n",
        "eval_step_obj = Gemma3TransformerStep(\n",
        "    model=model,\n",
        "    optimizer=optimizer,\n",
        "    base_prng={\"params\": jax.random.PRNGKey(43)},\n",
        "    partitioner=partitioner,\n",
        "    train=False,\n",
        ")\n",
        "\n",
        "eval_device = jax.devices()[0]\n",
        "print(f\"Evaluating on device: {eval_device}\")\n",
        "\n",
        "single_device_mesh = Mesh([eval_device], axis_names=(\"data\",))\n",
        "replicated_sharding = NamedSharding(single_device_mesh, P())\n",
        "\n",
        "print(\"Gathering parameters to the evaluation device...\")\n",
        "# This will move all data from other devices to eval_device\n",
        "gathered_params = jax.device_put(final_state.params, replicated_sharding)\n",
        "gathered_state = final_state.replace(params=gathered_params)\n",
        "print(\"Parameters gathered.\")"
      ],
      "outputs": [
        {
          "output_type": "stream",
          "name": "stdout",
          "text": [
            "Evaluating on device: TPU_0(process=0,(0,0,0,0))\n",
            "Gathering parameters to the evaluation device...\n",
            "Parameters gathered.\n"
          ]
        }
      ],
      "execution_count": 41
    },
    {
      "metadata": {
        "id": "gCUzdfHrmARe"
      },
      "cell_type": "code",
      "source": [
        "# @title Eval Step  {display-mode: \"form\"}\n",
        "def eval_batch_single(\n",
        "    state: types.TrainState, batch: types.Batch\n",
        ") -\u003e EvalMetrics:\n",
        "  input_features = eval_step_obj._get_input_features(batch)\n",
        "  output_features = eval_step_obj._get_output_features(batch)\n",
        "\n",
        "  tokens = input_features[\"input_ids\"]\n",
        "  padding_mask = input_features[\"attention_mask\"]\n",
        "\n",
        "  model_output = state.apply_fn(\n",
        "      {\"params\": state.params},\n",
        "      tokens=tokens,\n",
        "      cache=None,\n",
        "  )\n",
        "  logits = model_output.logits\n",
        "  labels = output_features[\"labels\"]\n",
        "\n",
        "  loss = eval_step_obj.loss_fn(logits, labels, padding_mask)\n",
        "\n",
        "  return EvalMetrics.single_from_model_output(\n",
        "      loss=loss,\n",
        "      logits=logits,\n",
        "      labels=labels,\n",
        "      mask=padding_mask.astype(jnp.bool_),\n",
        "  )\n",
        "\n",
        "\n",
        "jitted_eval_batch = jax.jit(eval_batch_single, device=eval_device)"
      ],
      "outputs": [],
      "execution_count": 42
    },
    {
      "metadata": {
        "id": "gwsM3dlUmif9"
      },
      "cell_type": "markdown",
      "source": [
        "Run the evaluation loop."
      ]
    },
    {
      "metadata": {
        "id": "HyBTHS4aOol4"
      },
      "cell_type": "code",
      "source": [
        "all_test_losses = []\n",
        "all_test_accuracies = []"
      ],
      "outputs": [],
      "execution_count": 43
    },
    {
      "metadata": {
        "id": "IVdDI1u7mRiE",
        "executionInfo": {
          "status": "ok",
          "timestamp": 1754618828955,
          "user_tz": 420,
          "elapsed": 3300,
          "user": {
            "displayName": "Krithi Sub",
            "userId": "18015629522155428608"
          }
        },
        "outputId": "9da1c673-f81d-45c9-8bc9-57435eb98490"
      },
      "cell_type": "code",
      "source": [
        "# Modified evaluation loop\n",
        "eval_metrics_host = None\n",
        "for batch in test_data_loader:\n",
        "  if not batch[\"input_features\"][\"input_ids\"].size:\n",
        "    print(\"Skipping empty batch\")\n",
        "    continue\n",
        "\n",
        "  batch_on_device = jax.device_put(batch, eval_device)\n",
        "  metric_updates = jitted_eval_batch(gathered_state, batch_on_device)\n",
        "  batch_metrics = jax.device_get(metric_updates)\n",
        "\n",
        "  computed_batch_metrics = batch_metrics.compute()\n",
        "  all_test_losses.append(computed_batch_metrics['eval_loss'])\n",
        "  all_test_accuracies.append(computed_batch_metrics['accuracy'])\n",
        "\n",
        "  if eval_metrics_host is None:\n",
        "    eval_metrics_host = batch_metrics\n",
        "  else:\n",
        "    eval_metrics_host = eval_metrics_host.merge(batch_metrics)\n",
        "\n",
        "if eval_metrics_host:\n",
        "  computed_metrics = eval_metrics_host.compute()\n",
        "  print(f\"Test Loss: {computed_metrics['eval_loss']:.4f}\")\n",
        "  print(f\"Test Accuracy: {computed_metrics['accuracy'] * 100:.2f}%\")\n",
        "  perplexity = jnp.exp(computed_metrics[\"eval_loss\"])\n",
        "  print(f\"Test Perplexity: {perplexity:.4f}\")\n",
        "\n",
        "average_test_loss = jnp.mean(jnp.array(all_test_losses))\n",
        "average_test_accuracy = jnp.mean(jnp.array(all_test_accuracies))\n",
        "\n",
        "print(f\"Average Test Loss: {average_test_loss}\")\n",
        "print(f\"Average Test Accuracy: {average_test_accuracy}\")"
      ],
      "outputs": [
        {
          "output_type": "stream",
          "name": "stdout",
          "text": [
            "Test Loss: 0.0313\n",
            "Test Accuracy: 99.19%\n",
            "Test Perplexity: 1.0318\n",
            "Average Test Loss: 0.03134937584400177\n",
            "Average Test Accuracy: 0.9919326901435852\n"
          ]
        }
      ],
      "execution_count": 44
    },
    {
      "metadata": {
        "id": "y1ghFhScGCD8"
      },
      "cell_type": "code",
      "source": [
        "running_loss = []\n",
        "running_acc = []\n",
        "for i, batch_loss in enumerate(all_test_losses):\n",
        "    running_loss.append(jnp.mean(jnp.array(all_test_losses[:i+1])))\n",
        "    running_acc.append(jnp.mean(jnp.array(all_test_accuracies[:i+1])))\n",
        "\n",
        "def exponential_moving_average(data, weight=0.9):\n",
        "  \"\"\"Exponential moving average.\"\"\"\n",
        "  result = data.copy() if hasattr(data, 'copy') else list(data)\n",
        "\n",
        "  vals = []\n",
        "  last = result[0]\n",
        "  for point in result:\n",
        "    val = last * weight + (1 - weight) * point\n",
        "    vals.append(val)\n",
        "    last = val\n",
        "  result = vals\n",
        "\n",
        "  return result\n",
        "\n",
        "loss = exponential_moving_average(running_loss)\n",
        "accuracy = exponential_moving_average(running_acc)"
      ],
      "outputs": [],
      "execution_count": 45
    },
    {
      "metadata": {
        "colab": {
          "height": 368
        },
        "id": "jqrPPWwERPRd",
        "executionInfo": {
          "status": "ok",
          "timestamp": 1754618853424,
          "user_tz": 420,
          "elapsed": 245,
          "user": {
            "displayName": "Krithi Sub",
            "userId": "18015629522155428608"
          }
        },
        "outputId": "f03d0d73-dd15-45e7-82be-4164cc80f085"
      },
      "cell_type": "code",
      "source": [
        "fig, (ax1, ax2) = plt.subplots(1, 2, figsize=(15, 5))\n",
        "\n",
        "# Plot Test Loss\n",
        "ax1.plot(loss, label='Test Loss', color='red')\n",
        "ax1.set_xlabel('Batch')\n",
        "ax1.set_ylabel('Loss')\n",
        "ax1.set_title('Test Loss per Batch')\n",
        "ax1.legend()\n",
        "ax1.grid(True)\n",
        "\n",
        "# Plot Test Accuracy\n",
        "ax2.plot(accuracy, label='Test Accuracy', color='blue')\n",
        "ax2.set_xlabel('Batch')\n",
        "ax2.set_ylabel('Accuracy')\n",
        "ax2.set_title('Test Accuracy per Batch')\n",
        "ax2.legend()\n",
        "ax2.grid(True)\n",
        "\n",
        "plt.tight_layout()\n",
        "plt.show()"
      ],
      "outputs": [
        {
          "output_type": "display_data",
          "data": {
            "image/png": "[encoded data removed]",
            "text/plain": [
              "\u003cFigure size 1080x360 with 2 Axes\u003e"
            ]
          },
          "metadata": {
            "image/png": {
              "height": 351,
              "width": 1072
            },
            "needs_background": "light"
          }
        }
      ],
      "execution_count": 46
    },
    {
      "metadata": {
        "id": "TNkm0ETNbzEE"
      },
      "cell_type": "markdown",
      "source": [
        "### Explanation of Results\n",
        "\n",
        "**Loss Reduction:** The left graph shows a steady decline in test loss from approximately ~0.04 to ~0.035 over 16 batches. This consistent downward trend indicates the model is successfully minimizing its prediction errors during training.\n",
        "\n",
        "**Accuracy Improvement:** The right graph demonstrates corresponding improvement in test accuracy, rising from about ~98.8% to ~99.1% - a meaningful gain of roughly 0.3 percentage points.\n",
        "\n",
        "This is a generally healthy learning pattern, both metrics are moving in the expected directions. While the final metrics seem impressive (a low loss of 0.03 and a high accuracy of 0.99), they can be attributed to the fact that the Gemma3_1B model comes with substantial advantages from its pre-training phase, having developed general language understanding from training on a massive corpus, and the additional instruction tuning checkpoints further enhances performance by aligning the model to follow specific task instructions effectively and improving generalization across different language tasks.\n",
        "\n",
        "The `tiny_shakespeare` dataset has limited complexity, a small scale of just 1 MiB, and a well-defined literary domain, so the model could quickly adapt its pre-trained knowledge without requiring extensive computational resources. The writing also follows consistent patterns that a sophisticated language model can readily learn. This explains the high initial accuracy on the testing set and steady improvement.\n",
        "\n",
        "**Overall, Jaxloop provides an easy-to-use solution for training and fine tuning various Transformer models, most notably the Gemma3 Transformers. The pipeline includes a data preprocessor, data loader, and the TransformerStep. All components have default configurations, but can also be customized (as demonstrated in this Colab) per model requirements.**"
      ]
    }
  ],
  "metadata": {
    "colab": {
      "provenance": [
        {
          "file_id": "14MZo9lO4jDQUsZ65AQsZHWP4TcH5N7_w",
          "timestamp": 1754611035696
        }
      ],
      "last_runtime": {
        "build_target": "//learning/grp/tools/ml_python:ml_python_notebook",
        "kind": "private"
      }
    },
    "kernelspec": {
      "name": "python3",
      "display_name": "Python 3"
    },
    "language_info": {
      "name": "python"
    }
  },
  "nbformat": 4,
  "nbformat_minor": 0
}
