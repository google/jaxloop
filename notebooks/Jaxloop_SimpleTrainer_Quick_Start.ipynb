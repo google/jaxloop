{
  "cells": [
    {
      "metadata": {
        "id": "X3OfzjURpDPF"
      },
      "cell_type": "markdown",
      "source": [
        "# SimpleTrainer (Quick Start)\n"
      ]
    },
    {
      "metadata": {
        "id": "0rDT8SVYTgKV"
      },
      "cell_type": "markdown",
      "source": [
        "This notebook is intended as an introduction to using the Jaxloop SimpleTrainer."
      ]
    },
    {
      "metadata": {
        "id": "v5TYai7bpZ_n"
      },
      "cell_type": "markdown",
      "source": [
        "## Setup"
      ]
    },
    {
      "metadata": {
        "id": "CQgPXYABGlz8"
      },
      "cell_type": "code",
      "source": [
        "from colabtools import adhoc_import\n",
        "from flax import linen as nn\n",
        "import jax\n",
        "import jax.numpy as jnp\n",
        "from jax.random import PRNGKey\n",
        "import optax\n",
        "\n",
        "with adhoc_import.Google3SubmittedChangelist():\n",
        "  from jaxloop.trainers import simple_trainer\n",
        "\n",
        "from jaxloop import types  # For types.TrainState"
      ],
      "outputs": [],
      "execution_count": 22
    },
    {
      "metadata": {
        "id": "bRlrHqZVXZvk"
      },
      "cell_type": "code",
      "source": [
        "def datasets():\n",
        "  \"\"\"Generates some data examples (truth: y = sin(x)).\n",
        "\n",
        "  Returns train_x, train_y, test_x, test_y separately.\n",
        "  \"\"\"\n",
        "  train_x_vals = jnp.arange(-4, 4, 0.003, dtype=jnp.float32)\n",
        "  test_x_vals = jnp.arange(-5, 5, 0.01, dtype=jnp.float32)\n",
        "\n",
        "  # Desired shape for model input (..., 1, 1)\n",
        "  train_x = jnp.expand_dims(train_x_vals, axis=-1)\n",
        "  train_x = jnp.expand_dims(train_x, axis=-1)\n",
        "\n",
        "  test_x = jnp.expand_dims(test_x_vals, axis=-1)\n",
        "  test_x = jnp.expand_dims(test_x, axis=-1)\n",
        "\n",
        "  train_y = jnp.sin(train_x)  # Shape: (num_points, 1, 1)\n",
        "  test_y = jnp.sin(test_x)  # Shape: (num_points, 1, 1)\n",
        "\n",
        "  # Return the four separate arrays\n",
        "  return train_x, train_y, test_x, test_y\n",
        "\n",
        "\n",
        "# Util to shuffle and batch data as (x, y) tuples\n",
        "def _batch_generator(\n",
        "    data_x: jax.Array,\n",
        "    data_y: jax.Array,\n",
        "    batch_size: int,\n",
        "    prng_key: jax.random.PRNGKey,\n",
        "):\n",
        "  \"\"\"Yields batches of (x, y) tuples.\"\"\"\n",
        "  num_samples = data_x.shape[0]\n",
        "  indices = jax.random.permutation(prng_key, jnp.arange(num_samples))\n",
        "\n",
        "  data_x_shuffled = data_x[indices]\n",
        "  data_y_shuffled = data_y[indices]\n",
        "\n",
        "  batch_count = 0\n",
        "  for i in range(0, num_samples, batch_size):\n",
        "    x_batch = data_x_shuffled[i : i + batch_size]\n",
        "    y_batch = data_y_shuffled[i : i + batch_size]\n",
        "\n",
        "    x_batch = x_batch.reshape(x_batch.shape[0], -1)\n",
        "    y_batch = y_batch.reshape(y_batch.shape[0], -1)\n",
        "\n",
        "    if x_batch.shape[0] == batch_size:\n",
        "      batch_count += 1\n",
        "      yield {\"input_features\": x_batch, \"output_features\": y_batch}"
      ],
      "outputs": [],
      "execution_count": 23
    },
    {
      "metadata": {
        "id": "EfybVgsOSo3q"
      },
      "cell_type": "code",
      "source": [
        "class SimpleNN(nn.Module):\n",
        "  \"\"\"A fully-connected neural network model with 6 layers\"\"\"\n",
        "\n",
        "  @nn.compact\n",
        "  def __call__(self, x, train=False):\n",
        "    for _ in range(5):\n",
        "      x = nn.Dense(features=64)(x)\n",
        "      x = nn.relu(x)\n",
        "    x = nn.Dense(features=1)(x)\n",
        "    return x\n",
        "\n",
        "\n",
        "NN_MODEL = SimpleNN()"
      ],
      "outputs": [],
      "execution_count": 24
    },
    {
      "metadata": {
        "id": "NPbFXwbHpUSs"
      },
      "cell_type": "code",
      "source": [
        "# Hyperparameters\n",
        "batch_size = 16\n",
        "learning_rate = 0.005\n",
        "\n",
        "num_total_points = len(jnp.arange(-4, 4, 0.003))\n",
        "\n",
        "NUM_EPOCHS = 1\n",
        "STEPS_PER_EPOCH = num_total_points // batch_size"
      ],
      "outputs": [],
      "execution_count": 25
    },
    {
      "metadata": {
        "id": "8NuXA_O1X8DQ"
      },
      "cell_type": "code",
      "source": [
        "\"\"\"A BatchSpec is a dictionary that maps feature names to tuples of (shape, dtype).\n",
        "\n",
        "The shape is a tuple of integers representing the shape of the feature, and the\n",
        "dtype is a NumPy dtype object representing the data type of the feature.\n",
        "\n",
        "In this case, the input features (the x's) are a 1D array of shape (1,) and\n",
        "dtype float32.\n",
        "The output features (the y's) are also a 1D array of shape (1,) and dtype\n",
        "float32.\n",
        "\n",
        "The SimpleTrainer expects keys to be \"input_features\" and \"output_features\", if\n",
        "this is not the case you must override _get_input_features() and\n",
        "_get_output_features() respectively.\n",
        "\"\"\"\n",
        "\n",
        "BATCH_SPEC = {\n",
        "    \"input_features\": (jnp.zeros((1,)).shape, jnp.float32),\n",
        "    \"output_features\": (jnp.zeros((1,)).shape, jnp.float32),\n",
        "}"
      ],
      "outputs": [],
      "execution_count": 26
    },
    {
      "metadata": {
        "id": "2P_fDUbUX5Gn"
      },
      "cell_type": "code",
      "source": [
        "OPTIMIZER = optax.adam(learning_rate)\n",
        "\n",
        "# Get data splits\n",
        "prng_seed = 0\n",
        "prng = PRNGKey(prng_seed)\n",
        "train_x_arr, train_y_arr, test_x_arr, test_y_arr = datasets()\n",
        "\n",
        "BASE_PRNG = {\"params\": prng}\n",
        "\n",
        "# A CheckpointingConfig can be created via simple_trainer.trainer_utils.CheckpointingConfig(...)\n",
        "CHECKPOINTING_CONFIG = None"
      ],
      "outputs": [],
      "execution_count": 27
    },
    {
      "metadata": {
        "id": "RYx-pUng3lmh"
      },
      "cell_type": "markdown",
      "source": [
        "## Initialization \u0026 Training"
      ]
    },
    {
      "metadata": {
        "id": "cmT0W3fkYzIY"
      },
      "cell_type": "markdown",
      "source": [
        "In addition to the below parameters, the partitioner, step_class, train_loop_class, eval_loop_class, and outer_loop_class can also be customized."
      ]
    },
    {
      "metadata": {
        "id": "I1qlaUpQp2HN"
      },
      "cell_type": "code",
      "source": [
        "# Create the SimpleTrainer instance with the model we created and hyperparameters\n",
        "trainer = simple_trainer.SimpleTrainer(\n",
        "    model=NN_MODEL,\n",
        "    epochs=NUM_EPOCHS,\n",
        "    steps_per_epoch=STEPS_PER_EPOCH,\n",
        "    batch_spec=BATCH_SPEC,\n",
        "    optimizer=OPTIMIZER,\n",
        "    base_prng=BASE_PRNG,\n",
        "    log_num_params=True,\n",
        "    checkpointing_config=CHECKPOINTING_CONFIG,\n",
        ")"
      ],
      "outputs": [],
      "execution_count": 28
    },
    {
      "metadata": {
        "id": "J6e_lanexbD9"
      },
      "cell_type": "code",
      "source": [
        "untrained_state = (\n",
        "    trainer.model_state\n",
        ")  # Store the untrained state for later comparison\n",
        "\n",
        "prng_train_batch, prng_plot = jax.random.split(prng)\n",
        "train_data_generator = _batch_generator(\n",
        "    train_x_arr, train_y_arr, batch_size, prng_train_batch\n",
        ")\n",
        "\n",
        "train_outputs = trainer.train(train_data_generator)  # Call the train method\n",
        "\n",
        "trained_state = trainer.model_state"
      ],
      "outputs": [],
      "execution_count": 29
    },
    {
      "metadata": {
        "id": "Q_qKfeIDqKJ4"
      },
      "cell_type": "code",
      "source": [
        "@jax.jit\n",
        "def pred_step(state: types.TrainState, batch_x: jax.Array):\n",
        "  \"\"\"Apply the model.\"\"\"\n",
        "  result = state.apply_fn({'params': state.params}, batch_x, train=False)\n",
        "  return result\n",
        "\n",
        "\n",
        "# Predictions with the untrained model\n",
        "untrained_preds = pred_step(untrained_state, test_x_arr)\n",
        "\n",
        "# Predictions with the trained model\n",
        "trained_preds = pred_step(trained_state, test_x_arr)"
      ],
      "outputs": [],
      "execution_count": 30
    },
    {
      "metadata": {
        "id": "3axzc5PWYaVT"
      },
      "cell_type": "markdown",
      "source": [
        "## Visualization"
      ]
    },
    {
      "metadata": {
        "id": "sCmFmUpTqOKf"
      },
      "cell_type": "code",
      "source": [
        "import matplotlib.pyplot as plt\n",
        "\n",
        "xs_plot = test_x_arr\n",
        "ys_true_plot = test_y_arr\n",
        "untrained_plot = untrained_preds\n",
        "trained_plot = trained_preds\n",
        "\n",
        "plt.figure(figsize=(10, 10))\n",
        "plt.scatter(\n",
        "    xs_plot, untrained_plot, c=\"blue\", label=\"untrained (SimpleTrainer)\"\n",
        ")\n",
        "plt.scatter(xs_plot, trained_plot, c=\"purple\", label=\"pred (SimpleTrainer)\")\n",
        "plt.scatter(xs_plot, ys_true_plot, c=\"red\", label=\"true\")\n",
        "plt.legend(loc=\"upper left\")\n",
        "plt.title(\"Jaxloop SimpleTrainer: y = sin(x)\")\n",
        "plt.xlabel(\"x\")\n",
        "plt.ylabel(\"y\")\n",
        "plt.show()\n",
        "\n",
        "final_test_loss = jnp.mean(optax.l2_loss(trained_preds, test_y_arr))\n",
        "print(f\"Final MSE loss on the test set: {final_test_loss}\")"
      ],
      "outputs": [],
      "execution_count": 31
    }
  ],
  "metadata": {
    "colab": {
      "last_runtime": {
        "build_target": "//third_party/py/jaxloop/g3doc:jaxloop_documentation_colab",
        "kind": "private"
      },
      "private_outputs": true,
      "provenance": [
        {
          "file_id": "1DCGdXVYcv4jnRa3R0wW2St41fjdWSrk0",
          "timestamp": 1749228570001
        },
        {
          "file_id": "1M8e7H5MNqj7xjyMSkyj5tY9hT--PAAmv",
          "timestamp": 1748366709592
        },
        {
          "file_id": "1jo56-LVQeePYDgKa4e_7XsP6w1-9aB23",
          "timestamp": 1748364175490
        }
      ]
    },
    "kernelspec": {
      "display_name": "Python 3",
      "name": "python3"
    },
    "language_info": {
      "name": "python"
    }
  },
  "nbformat": 4,
  "nbformat_minor": 0
}
