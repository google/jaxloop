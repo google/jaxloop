{
  "cells": [
    {
      "cell_type": "markdown",
      "metadata": {
        "id": "w5KBHB8Pew5M"
      },
      "source": [
        "# Getting Started with Jaxloop\n",
        "\n",
        "The objective of this starter notebook is to provide a quick introduction to the bare-minimum usage of Jaxloop (go/jaxloop).\n",
        "\n",
        "We'll go over the process of training a simple ANN model using known data, generated on the fly."
      ]
    },
    {
      "cell_type": "markdown",
      "metadata": {
        "id": "hPQfUUTycjIj"
      },
      "source": [
        "## Dataset \u0026 Modeling\n",
        "\n",
        "First, let's create a sample dataset based on `y = sin(x)` (ground truth).\n",
        "\n",
        "Our training split will cover a [-4, 4] range, with 2666 (evenly-spaced) points.  To differentiate the test split, it will have 1000 points in [-5, 5].\n",
        "\n",
        "We also have a utility function to shuffle batches of data during training."
      ]
    },
    {
      "cell_type": "code",
      "execution_count": null,
      "metadata": {
        "id": "bRlrHqZVXZvk"
      },
      "outputs": [],
      "source": [
        "import jax.numpy as jnp\n",
        "\n",
        "def datasets():\n",
        "  \"\"\"Generate some data examples (truth: y = sin(x)).\"\"\"\n",
        "\n",
        "  train_x = jnp.arange(-4, 4, 0.003, dtype=jnp.float32)\n",
        "  test_x = jnp.arange(-5, 5, 0.01, dtype=jnp.float32)\n",
        "\n",
        "  # Desired shape (batch_size, 2, features)\n",
        "  train_x = jnp.expand_dims(train_x, (2, 1))\n",
        "  test_x = jnp.expand_dims(test_x, (2, 1))\n",
        "\n",
        "  train_y = jnp.sin(train_x)\n",
        "  test_y = jnp.sin(test_x)\n",
        "\n",
        "  train_ds = jnp.concatenate([train_x, train_y], axis=1)\n",
        "  test_ds = jnp.concatenate([test_x, test_y], axis=1)\n",
        "\n",
        "  return train_ds, test_ds\n",
        "\n",
        "# Util to shuffle groups of data\n",
        "def _batch(ds, batch_size):\n",
        "  i = 0\n",
        "  ds_elems = ds.shape[0]\n",
        "  shuffled = jax.random.permutation(prng, ds, axis=0)\n",
        "  while True:\n",
        "    if(i + batch_size \u003e ds_elems):\n",
        "      remaining = ds_elems - i\n",
        "      i = batch_size - remaining\n",
        "      yield jnp.concatenate([shuffled[-remaining:], shuffled[:i]], axis=0)\n",
        "    else:\n",
        "      i += batch_size\n",
        "      yield shuffled[i - batch_size:i]\n",
        "\n",
        "    if i == ds_elems:\n",
        "      i = 0"
      ]
    },
    {
      "cell_type": "markdown",
      "metadata": {
        "id": "TlM1IJJ6187u"
      },
      "source": [
        "For our model, we use a forward neural network consisting of 5 dense layers and an output layer. We will feed this later to Jaxloop--No need to worry about writing code to use it directly."
      ]
    },
    {
      "cell_type": "code",
      "execution_count": null,
      "metadata": {
        "id": "EfybVgsOSo3q"
      },
      "outputs": [],
      "source": [
        "from flax import linen as nn\n",
        "\n",
        "class SimpleNN(nn.Module):\n",
        "  \"\"\"A fully-connected neural network model with 6 layers\"\"\"\n",
        "\n",
        "  @nn.compact\n",
        "  def __call__(self, x, train = False):\n",
        "    for _ in range(5):\n",
        "      x = nn.Dense(features=64)(x)\n",
        "      x = nn.relu(x)\n",
        "    x = nn.Dense(features=1)(x)\n",
        "    return x\n",
        "\n",
        "nn_model = SimpleNN()"
      ]
    },
    {
      "cell_type": "markdown",
      "metadata": {
        "id": "rijJnArlbDSZ"
      },
      "source": [
        "## Preparation for Training"
      ]
    },
    {
      "cell_type": "markdown",
      "metadata": {
        "id": "PnYdk0A1ngFm"
      },
      "source": [
        "### Loss function\n",
        "\n",
        "A basic Mean Squared Error (MSE) Loss function is defined. We then use it in [jitted](https://jax.readthedocs.io/en/latest/jit-compilation.html) training and evaluation functions that will come handy later, when we fully define those steps via Jaxloop."
      ]
    },
    {
      "cell_type": "code",
      "execution_count": null,
      "metadata": {
        "id": "Tufo2D_D8ZQN"
      },
      "outputs": [],
      "source": [
        "import jax\n",
        "import jaxtyping\n",
        "import optax\n",
        "from jaxloop import types\n",
        "from typing import Tuple\n",
        "\n",
        "def simple_training_loss(\n",
        "  state: types.TrainState,\n",
        "  x: jax.Array,\n",
        "  y: jax.Array\n",
        "):\n",
        "  def loss_fn(\n",
        "    params: jaxtyping.PyTree,\n",
        "  ) -\u003e Tuple[jax.Array, Tuple[jax.Array, types.TrainState]]:\n",
        "    \"\"\"Apply the model and compute MSE loss.\"\"\"\n",
        "    y_pred = state.apply_fn(\n",
        "      {\"params\": params},\n",
        "      x,\n",
        "      **{\"train\": True},\n",
        "    )\n",
        "\n",
        "    loss = optax.l2_loss(y_pred, y)\n",
        "\n",
        "    return jnp.mean(loss), y_pred\n",
        "\n",
        "  \"\"\"Apply model, get loss (w/ autodiff) and apply gradients.\"\"\"\n",
        "  gradient_fn = jax.value_and_grad(loss_fn, has_aux=True)\n",
        "  (loss, y_pred), gradients = gradient_fn(state.params)\n",
        "  state = state.apply_gradients(\n",
        "    grads=gradients\n",
        "  )\n",
        "\n",
        "  return state, loss, y_pred\n",
        "\n",
        "def simple_eval_loss(\n",
        "  state: types.TrainState,\n",
        "  x: jax.Array,\n",
        "  y: jax.Array,\n",
        "):\n",
        "  def loss_fn(\n",
        "    params: jaxtyping.PyTree,\n",
        "  ) -\u003e Tuple[jax.Array, Tuple[jax.Array, types.TrainState]]:\n",
        "    \"\"\"Apply the model and compute MSE loss.\"\"\"\n",
        "    y_pred = state.apply_fn(\n",
        "      {\"params\": params},\n",
        "      x,\n",
        "      **{\"train\": True},\n",
        "    )\n",
        "\n",
        "    loss = optax.l2_loss(y_pred, y)\n",
        "\n",
        "    return jnp.mean(loss), y_pred\n",
        "\n",
        "  \"\"\"Apply model, get loss (no gradients).\"\"\"\n",
        "  loss, y_pred = loss_fn(state.params)\n",
        "  return state, jnp.mean(loss), y_pred"
      ]
    },
    {
      "cell_type": "markdown",
      "metadata": {
        "id": "t1YLqbSWnjeE"
      },
      "source": [
        "### Load the data\n",
        "\n",
        "After setting a few hyperparameters for our project (feel free to try different values), we generate our project data using the `datasets` function defined earlier.\n",
        "\n",
        "\u003e Note that the value of `num_train_steps` (total steps to train the model) depends on the shape of the dataset.\n",
        "\n",
        "We also initialize a [JAX random number](https://jax.readthedocs.io/en/latest/random-numbers.html#random-numbers-in-jax) generator here."
      ]
    },
    {
      "cell_type": "code",
      "execution_count": null,
      "metadata": {
        "id": "uy8a48R6DQpm"
      },
      "outputs": [],
      "source": [
        "# Hyperparams\n",
        "\n",
        "batch_size = 16\n",
        "learning_rate = 0.01\n",
        "steps_per_epoch = 256\n",
        "prng_seed = 0"
      ]
    },
    {
      "cell_type": "code",
      "execution_count": null,
      "metadata": {
        "id": "ul3_xxFPYWDr"
      },
      "outputs": [],
      "source": [
        "# Get data splits \u0026 set more vars\n",
        "\n",
        "from jax.random import PRNGKey\n",
        "\n",
        "train_ds, test_ds = datasets()\n",
        "\n",
        "num_train_steps = train_ds.shape[0] // batch_size\n",
        "\n",
        "prng = PRNGKey(prng_seed)"
      ]
    },
    {
      "cell_type": "markdown",
      "metadata": {
        "id": "R4GIyQfxbtPn"
      },
      "source": [
        "## Jaxloop usage\n",
        "\n",
        "Now that our data, model, and JAX contexts are ready, we can get into the meat of this exercise: creating and running a **training loop** using `jaxloop`!\n",
        "\n",
        "Normally, this involves nested control structures (loops and conditionals) mixed in with JAX functional programming. This kind of code can be difficult to read, debug, and maintain.\n",
        "\n",
        "With Jaxloop, you can instead define a few objects and let the library do the rest."
      ]
    },
    {
      "cell_type": "markdown",
      "metadata": {
        "id": "U5Nbg_ENbomp"
      },
      "source": [
        "### Training step\n",
        "\n",
        "First, we define a complete train/eval routine by extending the `step.Step` class and implementing its `run` method. Our class is called `SimpleStep`.\n",
        "\n",
        "\u003e Note that this is where we use our JAX-powered `simple_training/eval_loss` functions. Besides that, the training step parses and formats data I/O.\n",
        "\n",
        "We then instantiate two step objects, one for training (which receives an optimizer and the `train=True` flag), and one for evaluation. Note that we also pass them our NN model at this point."
      ]
    },
    {
      "cell_type": "code",
      "execution_count": null,
      "metadata": {
        "id": "k1s_Hy3htnyI"
      },
      "outputs": [],
      "source": [
        "# Define train (and eval) step\n",
        "\n",
        "from jaxloop import step\n",
        "\n",
        "class SimpleStep(step.Step):\n",
        "  def run(\n",
        "    self, state: step.State, batch: step.Batch\n",
        "  ) -\u003e Tuple[step.State, step.Output]:\n",
        "    \"\"\"Train on a batch of data.\"\"\"\n",
        "    x = batch[:, 0]\n",
        "    y = batch[:, 1]\n",
        "\n",
        "    # Get loss (applies gradients)\n",
        "    if self._train:\n",
        "      state, loss, y_pred = simple_training_loss(state, x, y)\n",
        "    else:\n",
        "      state, loss, y_pred = simple_eval_loss(state, x, y)\n",
        "\n",
        "    output = {\n",
        "      \"loss\": loss,\n",
        "      \"y_pred\": y_pred,\n",
        "    }\n",
        "\n",
        "    return state, output\n",
        "\n",
        "train_step = SimpleStep(\n",
        "  base_prng=prng,\n",
        "  model=nn_model,\n",
        "  optimizer=optax.adam(learning_rate),\n",
        "  train=True,\n",
        ")\n",
        "\n",
        "# Note: We won't use a test step but this is where it would be instanced.\n",
        "# eval_step = SimpleStep(\n",
        "#   base_prng=prng,\n",
        "#   model=nn_model,\n",
        "# )"
      ]
    },
    {
      "cell_type": "markdown",
      "metadata": {
        "id": "rh9J2ZN_MzRP"
      },
      "source": [
        "### Custom training loop (CTL)\n",
        "\n",
        "Jaxloop provides a standard pattern to define training steps and loops, which can be customized and extended via the library's API.\n",
        "\n",
        "Using our `train/eval_step` objects, we set up plain `train_loop.TrainLoop` and `eval_loop.EvalLoop` instances. Then we use those to configure our CTL via `outer_loop.OuterLoop`.\n",
        "\n",
        "No loop customization whatsoever is needed for straightforward cases, such as this exercise."
      ]
    },
    {
      "cell_type": "code",
      "execution_count": null,
      "metadata": {
        "id": "nFUiCeUs8XRB"
      },
      "outputs": [],
      "source": [
        "# Define loops\n",
        "\n",
        "from jaxloop import outer_loop\n",
        "from jaxloop import train_loop as train_loop_lib\n",
        "\n",
        "# Inner loop\n",
        "train_loop = train_loop_lib.TrainLoop(train_step)\n",
        "\n",
        "# Outer loop\n",
        "ctl = outer_loop.OuterLoop(train_loop)"
      ]
    },
    {
      "cell_type": "markdown",
      "metadata": {
        "id": "UJ0l7MuUrF0w"
      },
      "source": [
        "Now, all that's needed to train the model is to initialize its state, which is done via the Jaxloop `train_step` created earlier. We can then call our `ctl` (`OuterLoop` instance).\n",
        "\n",
        "We pass it the fresh `train_state`, our batched `train_dataset`, and specify how many total steps as well as steps per loop (epochs)."
      ]
    },
    {
      "cell_type": "code",
      "execution_count": null,
      "metadata": {
        "id": "7poCEK1bM7u9"
      },
      "outputs": [],
      "source": [
        "# Init model \u0026 get train state\n",
        "train_state = train_step.initialize_model(train_ds.shape)\n",
        "\n",
        "# Start the loop!\n",
        "trained_state, _ = ctl(\n",
        "  train_state,\n",
        "  train_dataset=_batch(train_ds, batch_size),\n",
        "  train_total_steps=num_train_steps,\n",
        "  train_loop_steps=steps_per_epoch,\n",
        ")"
      ]
    },
    {
      "cell_type": "markdown",
      "metadata": {
        "id": "fj9YuBsl_Cgi"
      },
      "source": [
        "The loop returns the final model state (params after training, saved as `trained_state`).\n",
        "\n",
        "\u003e The second item returned (model's output) is not relevant here (discarded via `_`)."
      ]
    },
    {
      "cell_type": "markdown",
      "metadata": {
        "id": "qQbKS0tV3sZ1"
      },
      "source": [
        "## Test inference\n",
        "\n",
        "To visualize the resulting model state, we plot the predictions for our entire test set using both the initial random model state (blue) and and final trained one (purple). The ground truth (sine wave) is also added (red).\n",
        "\n",
        "\u003e For better performance, we define a jitted inference function first."
      ]
    },
    {
      "cell_type": "code",
      "execution_count": null,
      "metadata": {
        "id": "Ym8Pu0mGGaGw"
      },
      "outputs": [],
      "source": [
        "@jax.jit\n",
        "def pred_step(state, batch):\n",
        "  \"\"\"Apply the model.\"\"\"\n",
        "  result = state.apply_fn({'params': state.params}, batch)\n",
        "  return result"
      ]
    },
    {
      "cell_type": "code",
      "execution_count": null,
      "metadata": {
        "colab": {
          "height": 609
        },
        "executionInfo": {
          "elapsed": 814,
          "status": "ok",
          "timestamp": 1725916440036,
          "user": {
            "displayName": "Jorge Orpinel (xWF)",
            "userId": "17417985269249309241"
          },
          "user_tz": 240
        },
        "id": "Zq_8DQy-ZLvu",
        "outputId": "58a2c5d0-304d-41e3-fe80-73fb42a6a3bb"
      },
      "outputs": [
        {
          "data": {
            "text/plain": [
              "\u003cmatplotlib.legend.Legend at 0x333a868e69d0\u003e"
            ]
          },
          "execution_count": 10,
          "metadata": {},
          "output_type": "execute_result"
        },
        {
          "data": {
            "image/png": "[encoded data removed]",
            "text/plain": [
              "\u003cFigure size 1000x1000 with 1 Axes\u003e"
            ]
          },
          "metadata": {
            "image/png": {
              "height": 574,
              "width": 603
            }
          },
          "output_type": "display_data"
        }
      ],
      "source": [
        "import matplotlib.pyplot as plt\n",
        "\n",
        "xs = test_ds[:, 0]\n",
        "ys = test_ds[:, 1]\n",
        "untrained = pred_step(train_state, xs)\n",
        "preds = pred_step(trained_state, xs)\n",
        "\n",
        "plt.figure(figsize=(10, 10))\n",
        "plt.scatter(xs, untrained, c='blue', label=\"untrained\")\n",
        "plt.scatter(xs, preds, c='purple', label=\"pred\")\n",
        "plt.scatter(xs, ys, c='red', label=\"true\")\n",
        "plt.legend(loc='upper left')"
      ]
    },
    {
      "cell_type": "markdown",
      "metadata": {
        "id": "3MTY_y0skCiG"
      },
      "source": [
        "## More resources\n",
        "\n",
        "For more advanced Jaxloop topics, see our [Intermediate Colab](https://colab.corp.google.com/google_src/files/head/depot/google3/third_party/py/jaxloop/notebooks/Jaxloop_Intermediate.ipynb), [Actions](http://go/jaxloop-actions) information, and [API Overview](http://go/jaxloop-api)."
      ]
    }
  ],
  "metadata": {
    "colab": {
      "last_runtime": {
        "build_target": "//third_party/py/jaxloop/g3doc:jaxloop_documentation_colab",
        "kind": "private"
      },
      "provenance": [
        {
          "file_id": "1pmOO1jNP8HF1IBTQ6_uty-QxRST2KSgo",
          "timestamp": 1722451628551
        },
        {
          "file_id": "1EcKWiXq7N6eYD1E4ErFoM_8lg6BML-wb",
          "timestamp": 1722450812972
        }
      ],
      "toc_visible": true
    },
    "kernelspec": {
      "display_name": "Python 3",
      "name": "python3"
    },
    "language_info": {
      "name": "python"
    }
  },
  "nbformat": 4,
  "nbformat_minor": 0
}
